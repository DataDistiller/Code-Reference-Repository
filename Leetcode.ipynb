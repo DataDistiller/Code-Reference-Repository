{
 "cells": [
  {
   "cell_type": "code",
   "execution_count": 5,
   "metadata": {},
   "outputs": [],
   "source": [
    "import requests\n",
    "import json"
   ]
  },
  {
   "cell_type": "code",
   "execution_count": 19,
   "metadata": {},
   "outputs": [],
   "source": [
    "data = {\n",
    "    \"Inputs\": {\n",
    "        \"WebServiceInput0\":\n",
    "        [\n",
    "            {\n",
    "                'sentiment_label': \"-1\",\n",
    "                'tweet_text': \"this is horrible\",\n",
    "            },\n",
    "        ],\n",
    "    },\n",
    "    \"GlobalParameters\": {\n",
    "    }\n",
    "}\n",
    "\n",
    "body = str.encode(json.dumps(data))\n",
    "url = 'http://72cb096a-1c57-4810-a439-8cb315683c39.westcentralus.azurecontainer.io/score'\n",
    "api_key = 'adsv8gf78fa5vU7WLyNDbgfjRwrepfmE'  \n",
    "headers = {'Content-Type':'application/json', 'Authorization':('Bearer '+ api_key)}\n",
    "\n",
    "response = requests.post(url, data=body, headers=headers).content.decode('utf-8')\n",
    "\n",
    "out = json.loads(response)"
   ]
  },
  {
   "cell_type": "code",
   "execution_count": 27,
   "metadata": {},
   "outputs": [
    {
     "data": {
      "text/plain": [
       "0.3984354079976487"
      ]
     },
     "execution_count": 27,
     "metadata": {},
     "output_type": "execute_result"
    }
   ],
   "source": [
    "out['Results']['WebServiceOutput0'][0]['Scored Probabilities']"
   ]
  },
  {
   "cell_type": "code",
   "execution_count": null,
   "metadata": {},
   "outputs": [],
   "source": []
  },
  {
   "cell_type": "code",
   "execution_count": null,
   "metadata": {},
   "outputs": [],
   "source": [
    "def calc_acute_angle(hand1,hand2):\n",
    "    h1_angle = 30 * hand1 + (0.5 * hand2)\n",
    "    h2_angle = 6 * hand2 \n",
    "    print(abs(h1_angle - h2_angle)%180);\n",
    "    "
   ]
  },
  {
   "cell_type": "code",
   "execution_count": null,
   "metadata": {},
   "outputs": [],
   "source": [
    "print(calc_acute_angle(6,50))"
   ]
  },
  {
   "cell_type": "code",
   "execution_count": null,
   "metadata": {},
   "outputs": [],
   "source": [
    "def checkpal(s):\n",
    "    s = s.lower().strip()\n",
    "    val = [list(s).count(x)%2 for x in set(s)]\n",
    "    if (val.count(1) == 1 or val.count(1) == 0) and val.count(0) %2 == 0:\n",
    "        return True\n",
    "    else:\n",
    "        return False"
   ]
  },
  {
   "cell_type": "code",
   "execution_count": null,
   "metadata": {},
   "outputs": [],
   "source": [
    "checkpal( 'sandra')"
   ]
  },
  {
   "cell_type": "code",
   "execution_count": null,
   "metadata": {},
   "outputs": [],
   "source": [
    "def move_zeros_to_left(A):\n",
    "    start = 0\n",
    "    end = 0\n",
    "    for i in range(len(A)):\n",
    "        if A[i] == 0:\n",
    "            end = i\n",
    "            A[start+1:end+1] = A[start:end]\n",
    "            A[start] = 0\n",
    "    print(A)"
   ]
  },
  {
   "cell_type": "code",
   "execution_count": null,
   "metadata": {},
   "outputs": [],
   "source": [
    "def move_zeros_to_left(A):\n",
    "    start = 0\n",
    "    for i in range(len(A)):        \n",
    "        if A[i] == 0:     \n",
    "            print(f'A before {A}')\n",
    "            print(f'{i}th position is 0, move {start},{i}  to {start + 1},{i+1}')\n",
    "            A[start + 1:i+1] = A[start:i]\n",
    "            A[start] = 0\n",
    "            start = start + 1\n",
    "            print(f'A after {A}')\n",
    "            \n",
    "    print(A)"
   ]
  },
  {
   "cell_type": "code",
   "execution_count": null,
   "metadata": {},
   "outputs": [],
   "source": [
    "A = [1,10,20,0,59,63,0,88,0]\n",
    "#A = [0,1,0,2,0,3,4,5,6,0]\n",
    "move_zeros_to_left(A)"
   ]
  },
  {
   "cell_type": "code",
   "execution_count": null,
   "metadata": {},
   "outputs": [],
   "source": [
    "class Pair:\n",
    "    def __init__(self, first, second):\n",
    "        self.first = first\n",
    "        self.second = second\n",
    "    def __str__ (self):\n",
    "        return f'({self.first},{self.second})'\n",
    "    \n",
    "def merge_intervals(v):\n",
    "    idx = 0\n",
    "    low,high = (v[idx].first, v[idx].second)\n",
    "    idx += 1\n",
    "    while idx < len(v):  \n",
    "        low  = min(low,v[idx].first)\n",
    "        high = max(high,v[idx].second)\n",
    "        idx += 1\n",
    "    result = [low,high]\n",
    "    return result"
   ]
  },
  {
   "cell_type": "code",
   "execution_count": null,
   "metadata": {},
   "outputs": [],
   "source": [
    "#pairs = [Pair(1, 5), Pair(3, 7), Pair(4, 6), Pair(6, 8)]\n",
    "pairs = [Pair(10, 14), Pair(8, 15)]"
   ]
  },
  {
   "cell_type": "code",
   "execution_count": null,
   "metadata": {},
   "outputs": [],
   "source": [
    "merge_intervals(pairs)"
   ]
  },
  {
   "cell_type": "markdown",
   "metadata": {},
   "source": [
    "## Linked List in Python"
   ]
  },
  {
   "cell_type": "code",
   "execution_count": 1,
   "metadata": {},
   "outputs": [],
   "source": [
    "class LNode:\n",
    "    \n",
    "    def __init__(self,data):\n",
    "        self.data = data\n",
    "        self.next = None\n",
    "        \n",
    "    def __repr__(self):\n",
    "        return self.data\n",
    "    \n",
    "    \n",
    "class LinkedList:\n",
    "    \n",
    "    def __init__(self,headnode:LNode = None):\n",
    "        self.head = headnode\n",
    "        \n",
    "    def add(self,newnode:LNode):\n",
    "        nextnode = self.head\n",
    "        while nextnode.next is not None:\n",
    "            nextnode = nextnode.next\n",
    "            \n",
    "        nextnode.next = newnode\n",
    "\n",
    "    def __repr__(self):\n",
    "        node = self.head\n",
    "        nodes = []\n",
    "        while node is not None:\n",
    "            nodes.append(node.data)\n",
    "            node = node.next\n",
    "        nodes.append(\"None\")\n",
    "        return \"->\".join(nodes)"
   ]
  },
  {
   "cell_type": "code",
   "execution_count": 2,
   "metadata": {},
   "outputs": [
    {
     "data": {
      "text/plain": [
       "Head->None"
      ]
     },
     "execution_count": 2,
     "metadata": {},
     "output_type": "execute_result"
    }
   ],
   "source": [
    "ll = LinkedList(LNode(\"Head\"))\n",
    "ll"
   ]
  },
  {
   "cell_type": "code",
   "execution_count": 3,
   "metadata": {},
   "outputs": [
    {
     "data": {
      "text/plain": [
       "Head->Monday->Tuesday->Wednesday->None"
      ]
     },
     "execution_count": 3,
     "metadata": {},
     "output_type": "execute_result"
    }
   ],
   "source": [
    "ll.add(LNode(\"Monday\"))\n",
    "ll.add(LNode(\"Tuesday\"))\n",
    "ll.add(LNode(\"Wednesday\"))\n",
    "ll"
   ]
  },
  {
   "cell_type": "markdown",
   "metadata": {},
   "source": [
    "### Doubly linked list"
   ]
  },
  {
   "cell_type": "code",
   "execution_count": 14,
   "metadata": {},
   "outputs": [],
   "source": [
    "class DLNode:\n",
    "    \n",
    "    def __init__(self,data):\n",
    "        self.data = data\n",
    "        self.next = None\n",
    "        self.prev = None\n",
    "        \n",
    "    def __repr__(self):\n",
    "        return self.data\n",
    "    \n",
    "    \n",
    "class LinkedList:\n",
    "    \n",
    "    def __init__(self,headnode:DLNode):\n",
    "        self.head = headnode\n",
    "        self.tail = headnode\n",
    "\n",
    "    def add(self,newnode:DLNode):\n",
    "        # initializing head, go to the last node\n",
    "        nextnode = self.head\n",
    "        while nextnode.next is not None:\n",
    "            nextnode = nextnode.next\n",
    "            \n",
    "        nextnode.next = newnode        \n",
    "        newnode.prev = nextnode\n",
    "        \n",
    "    def __repr__(self):\n",
    "        node = self.head\n",
    "        nodes = [\"None\"]\n",
    "        while node is not None:\n",
    "            nodes.append(node.data)\n",
    "            node = node.next\n",
    "        nodes.append(\"None\")\n",
    "        return \"<->\".join(nodes)\n",
    "        "
   ]
  },
  {
   "cell_type": "code",
   "execution_count": 15,
   "metadata": {},
   "outputs": [
    {
     "data": {
      "text/plain": [
       "None<->Sunday<->None"
      ]
     },
     "execution_count": 15,
     "metadata": {},
     "output_type": "execute_result"
    }
   ],
   "source": [
    "dll = LinkedList(DLNode(\"Sunday\"))\n",
    "dll"
   ]
  },
  {
   "cell_type": "code",
   "execution_count": 22,
   "metadata": {},
   "outputs": [
    {
     "data": {
      "text/plain": [
       "None<->Sunday<->Monday<->Tuesday<->None"
      ]
     },
     "execution_count": 22,
     "metadata": {},
     "output_type": "execute_result"
    }
   ],
   "source": [
    "dll.add(DLNode('Tuesday'))\n",
    "dll"
   ]
  },
  {
   "cell_type": "code",
   "execution_count": 67,
   "metadata": {},
   "outputs": [],
   "source": [
    "from collections import deque  \n"
   ]
  },
  {
   "cell_type": "code",
   "execution_count": 125,
   "metadata": {},
   "outputs": [],
   "source": [
    "\n",
    "class BTNode:\n",
    "    \n",
    "    def __init__(self,data):\n",
    "        self.data = data\n",
    "        self.left = None\n",
    "        self.right = None\n",
    "        \n",
    "    def __repr__(self):\n",
    "        return self.data\n",
    "    \n",
    "    \n",
    "class BinaryTree:\n",
    "    \n",
    "    def __init__(self,rootnode:BTNode = None):\n",
    "        self.root = rootnode\n",
    "   \n",
    "    def inorder(self,rootnode:BTNode):\n",
    "        nodes = []\n",
    "        \n",
    "        left = rootnode.left\n",
    "        right = rootnode.right\n",
    "        \n",
    "        \n",
    "        \n",
    "        if left is not None:\n",
    "            leftnodes = self.inorder(left)\n",
    "            nodes.extend(leftnodes)        \n",
    "        \n",
    "        if rootnode is not None:\n",
    "            nodes.append(rootnode)\n",
    "        \n",
    "        if right is not None:\n",
    "            rightnodes = self.inorder(right)\n",
    "            nodes.extend(rightnodes)       \n",
    "        \n",
    "        return nodes\n",
    "\n",
    "    \n",
    "    def levelorder(self,rootnode:BTNode):\n",
    "        current_queue = deque()\n",
    "        next_queue = deque()      \n",
    "        \n",
    "        next_queue.append(rootnode)\n",
    "        \n",
    "        # while there is something left in next_queue\n",
    "        while len(next_queue) > 0:\n",
    "            # get next node from next queue\n",
    "            node = next_queue.popleft()\n",
    "            # add to current queue\n",
    "            current_queue.append(node) \n",
    "            # add its children to next queue\n",
    "            if node.left is not None:\n",
    "                next_queue.append(node.left)\n",
    "            if node.right is not None:\n",
    "                next_queue.append(node.right)\n",
    "        \n",
    "        \n",
    "        return current_queue  \n",
    "        \n",
    "    \n",
    "    def __repr__(self):\n",
    "        nodes =  self.inorder(self.root)\n",
    "        print(nodes)"
   ]
  },
  {
   "cell_type": "code",
   "execution_count": 126,
   "metadata": {},
   "outputs": [],
   "source": [
    "bt = None\n",
    "bt = BinaryTree(BTNode(\"1\"))\n",
    "bt.root.left = BTNode(\"2\")\n",
    "bt.root.right = BTNode(\"3\")\n",
    "bt.root.left.left = BTNode(\"4\")\n",
    "bt.root.left.right = BTNode(\"5\")"
   ]
  },
  {
   "cell_type": "code",
   "execution_count": 128,
   "metadata": {},
   "outputs": [
    {
     "data": {
      "text/plain": [
       "[4, 2, 5, 1, 3]"
      ]
     },
     "execution_count": 128,
     "metadata": {},
     "output_type": "execute_result"
    }
   ],
   "source": [
    "bt.inorder(bt.root)"
   ]
  },
  {
   "cell_type": "code",
   "execution_count": 129,
   "metadata": {},
   "outputs": [
    {
     "data": {
      "text/plain": [
       "deque([1, 2, 3, 4, 5])"
      ]
     },
     "execution_count": 129,
     "metadata": {},
     "output_type": "execute_result"
    }
   ],
   "source": [
    "bt.levelorder(bt.root)"
   ]
  },
  {
   "cell_type": "markdown",
   "metadata": {},
   "source": [
    "### using Queues in python"
   ]
  },
  {
   "cell_type": "code",
   "execution_count": 70,
   "metadata": {},
   "outputs": [
    {
     "data": {
      "text/plain": [
       "'DOB'"
      ]
     },
     "execution_count": 70,
     "metadata": {},
     "output_type": "execute_result"
    }
   ],
   "source": [
    "from collections import deque  \n",
    "      \n",
    "# Declaring deque  \n",
    "queue = deque(['name','age','DOB'])   \n",
    "      \n",
    "queue.pop()"
   ]
  },
  {
   "cell_type": "code",
   "execution_count": 81,
   "metadata": {},
   "outputs": [
    {
     "data": {
      "text/plain": [
       "0"
      ]
     },
     "execution_count": 81,
     "metadata": {},
     "output_type": "execute_result"
    }
   ],
   "source": [
    "len(queue)"
   ]
  },
  {
   "cell_type": "markdown",
   "metadata": {},
   "source": [
    "### the yield function.  Returns generator. "
   ]
  },
  {
   "cell_type": "code",
   "execution_count": 95,
   "metadata": {},
   "outputs": [
    {
     "name": "stdout",
     "output_type": "stream",
     "text": [
      "<generator object cube_numbers at 0x00000008F3226E60>\n"
     ]
    }
   ],
   "source": [
    "def cube_numbers(nums):\n",
    "    print(\"Start function\")\n",
    "   \n",
    "    for i in nums:\n",
    "        print(i)\n",
    "        yield(i**3)\n",
    "    print(\"End function\")\n",
    "    \n",
    "cubes = cube_numbers([1, 2, 3, 4, 5])\n",
    "\n",
    "print(cubes)"
   ]
  },
  {
   "cell_type": "code",
   "execution_count": 96,
   "metadata": {},
   "outputs": [
    {
     "name": "stdout",
     "output_type": "stream",
     "text": [
      "Start function\n",
      "1\n",
      "2\n",
      "3\n",
      "4\n",
      "5\n",
      "End function\n"
     ]
    },
    {
     "data": {
      "text/plain": [
       "[1, 8, 27, 64, 125]"
      ]
     },
     "execution_count": 96,
     "metadata": {},
     "output_type": "execute_result"
    }
   ],
   "source": [
    "[x for x in cubes]"
   ]
  },
  {
   "cell_type": "code",
   "execution_count": 97,
   "metadata": {},
   "outputs": [
    {
     "name": "stdout",
     "output_type": "stream",
     "text": [
      "1388\n"
     ]
    }
   ],
   "source": [
    "# importing os module  \n",
    "import os \n",
    "  \n",
    "# Get the process ID of \n",
    "# the current process \n",
    "pid = os.getpid() \n",
    "  \n",
    "  \n",
    "# Print the process ID of \n",
    "# the current process \n",
    "print(pid)  "
   ]
  },
  {
   "cell_type": "code",
   "execution_count": null,
   "metadata": {},
   "outputs": [],
   "source": []
  },
  {
   "cell_type": "code",
   "execution_count": null,
   "metadata": {},
   "outputs": [],
   "source": []
  },
  {
   "cell_type": "markdown",
   "metadata": {},
   "source": [
    "## quick recursions"
   ]
  },
  {
   "cell_type": "code",
   "execution_count": 18,
   "metadata": {},
   "outputs": [
    {
     "data": {
      "text/plain": [
       "120"
      ]
     },
     "execution_count": 18,
     "metadata": {},
     "output_type": "execute_result"
    }
   ],
   "source": [
    "def fact(n:int) -> int:\n",
    "    if n == 0:\n",
    "        return 1\n",
    "    elif n == 1:\n",
    "        return 1\n",
    "    else:\n",
    "        return n*fact(n-1)\n",
    "    \n",
    "fact(5)"
   ]
  },
  {
   "cell_type": "code",
   "execution_count": 21,
   "metadata": {},
   "outputs": [
    {
     "data": {
      "text/plain": [
       "[0, 1, 1, 2, 3, 5, 8, 13, 21]"
      ]
     },
     "execution_count": 21,
     "metadata": {},
     "output_type": "execute_result"
    }
   ],
   "source": [
    "def fibb(n:int) -> int:\n",
    "    if n == 1:\n",
    "        return 0\n",
    "    elif n == 2:\n",
    "        return 1\n",
    "    else:\n",
    "        return fibb(n-2) + fibb(n-1)\n",
    "    \n",
    "[fibb(n) for n in range(1,10)]"
   ]
  },
  {
   "cell_type": "code",
   "execution_count": null,
   "metadata": {},
   "outputs": [],
   "source": []
  },
  {
   "cell_type": "code",
   "execution_count": null,
   "metadata": {},
   "outputs": [],
   "source": []
  },
  {
   "cell_type": "markdown",
   "metadata": {},
   "source": [
    "#### Date time"
   ]
  },
  {
   "cell_type": "code",
   "execution_count": 134,
   "metadata": {},
   "outputs": [
    {
     "name": "stdout",
     "output_type": "stream",
     "text": [
      "Today: 2021-03-09 04:16:08.779428\n",
      "Yesterday: 2021-03-08 04:16:08.779428\n",
      "Tomorrow: 2021-03-10 04:16:08.779428\n",
      "Time between tomorrow and yesterday: 2 days, 0:00:00\n"
     ]
    }
   ],
   "source": [
    "import datetime\n",
    "\n",
    "today = datetime.date.today()\n",
    "# also datetime.datetime.today()\n",
    "print('Today:', today)\n",
    "yesterday = today - datetime.timedelta(days=1)\n",
    "print('Yesterday:', yesterday)\n",
    "tomorrow = today + datetime.timedelta(days=1)\n",
    "print('Tomorrow:', tomorrow)\n",
    "print('Time between tomorrow and yesterday:', tomorrow - yesterday)"
   ]
  },
  {
   "cell_type": "code",
   "execution_count": 149,
   "metadata": {},
   "outputs": [
    {
     "data": {
      "text/plain": [
       "'2021-03-09 03:19:36'"
      ]
     },
     "execution_count": 149,
     "metadata": {},
     "output_type": "execute_result"
    }
   ],
   "source": [
    "x = datetime.datetime.now() - datetime.timedelta(hours=1)\n",
    "x.strftime('%Y-%m-%d %H:%M:%S')"
   ]
  },
  {
   "cell_type": "markdown",
   "metadata": {},
   "source": [
    "### Iterators"
   ]
  },
  {
   "cell_type": "code",
   "execution_count": 152,
   "metadata": {},
   "outputs": [
    {
     "name": "stdout",
     "output_type": "stream",
     "text": [
      "0 :: one\n",
      "1 :: two\n",
      "2 :: three\n",
      "3 :: four\n"
     ]
    }
   ],
   "source": [
    "# Using Enumerate\n",
    "for index, item in enumerate(['one', 'two', 'three', 'four']):\n",
    "    print(index, '::', item)"
   ]
  },
  {
   "cell_type": "code",
   "execution_count": 156,
   "metadata": {},
   "outputs": [
    {
     "name": "stdout",
     "output_type": "stream",
     "text": [
      "['ONE', 'TWO', 'THREE', 'FOUR']\n"
     ]
    }
   ],
   "source": [
    "# Map function\n",
    "x = map(lambda e : e.upper(), ['one', 'two', 'three', 'four'])\n",
    "print(list(x))"
   ]
  },
  {
   "cell_type": "code",
   "execution_count": 158,
   "metadata": {},
   "outputs": [],
   "source": [
    "fish = {'name': \"Nemo\", 'hands': \"fins\", 'special': \"gills\"}\n",
    "dog = {'name': \"Clifford\", 'hands': \"paws\", 'color': \"red\"}"
   ]
  },
  {
   "cell_type": "code",
   "execution_count": 160,
   "metadata": {},
   "outputs": [
    {
     "data": {
      "text/plain": [
       "{'name': 'Clifford', 'hands': 'paws', 'special': 'gills', 'color': 'red'}"
      ]
     },
     "execution_count": 160,
     "metadata": {},
     "output_type": "execute_result"
    }
   ],
   "source": [
    "app_dict = {**fish, **dog}\n",
    "app_dict"
   ]
  },
  {
   "cell_type": "code",
   "execution_count": 165,
   "metadata": {},
   "outputs": [
    {
     "data": {
      "text/plain": [
       "['hands', 'name', 'special']"
      ]
     },
     "execution_count": 165,
     "metadata": {},
     "output_type": "execute_result"
    }
   ],
   "source": [
    "sorted(fish)"
   ]
  },
  {
   "cell_type": "code",
   "execution_count": 169,
   "metadata": {},
   "outputs": [
    {
     "data": {
      "text/plain": [
       "{'name': 'Nemo', 'hands': 'fins', 'special': 'gills'}"
      ]
     },
     "execution_count": 169,
     "metadata": {},
     "output_type": "execute_result"
    }
   ],
   "source": [
    "dict(sorted(fish.items(), key = lambda item: item[1]))"
   ]
  },
  {
   "cell_type": "code",
   "execution_count": 172,
   "metadata": {},
   "outputs": [
    {
     "data": {
      "text/plain": [
       "False"
      ]
     },
     "execution_count": 172,
     "metadata": {},
     "output_type": "execute_result"
    }
   ],
   "source": [
    "vals = [1, 2, 3, 4]\n",
    "any(val > 12 for val in vals)\n"
   ]
  },
  {
   "cell_type": "code",
   "execution_count": 175,
   "metadata": {},
   "outputs": [
    {
     "data": {
      "text/plain": [
       "True"
      ]
     },
     "execution_count": 175,
     "metadata": {},
     "output_type": "execute_result"
    }
   ],
   "source": [
    "any((val * 2) > 6 for val in vals)"
   ]
  },
  {
   "cell_type": "code",
   "execution_count": 177,
   "metadata": {},
   "outputs": [
    {
     "data": {
      "text/plain": [
       "True"
      ]
     },
     "execution_count": 177,
     "metadata": {},
     "output_type": "execute_result"
    }
   ],
   "source": [
    "all(val < 12 for val in vals)"
   ]
  },
  {
   "cell_type": "code",
   "execution_count": 193,
   "metadata": {},
   "outputs": [
    {
     "data": {
      "text/plain": [
       "{'Clifford': 'name', 'paws': 'hands', 'gills': 'special', 'red': 'color'}"
      ]
     },
     "execution_count": 193,
     "metadata": {},
     "output_type": "execute_result"
    }
   ],
   "source": [
    "{v: k for k, v in app_dict.items()}"
   ]
  },
  {
   "cell_type": "markdown",
   "metadata": {},
   "source": [
    "## List comprehensions on sentences"
   ]
  },
  {
   "cell_type": "code",
   "execution_count": 179,
   "metadata": {},
   "outputs": [],
   "source": [
    "sent = \"Hi This is Joyjit and I am a coding freak\"\n"
   ]
  },
  {
   "cell_type": "code",
   "execution_count": 183,
   "metadata": {},
   "outputs": [
    {
     "data": {
      "text/plain": [
       "'iH sihT si tijyoJ dna I ma a gnidoc kaerf'"
      ]
     },
     "execution_count": 183,
     "metadata": {},
     "output_type": "execute_result"
    }
   ],
   "source": [
    "' '.join([w[::-1] for w in sent.split()])"
   ]
  },
  {
   "cell_type": "code",
   "execution_count": 186,
   "metadata": {},
   "outputs": [
    {
     "data": {
      "text/plain": [
       "['Hi', 'hisT', 'is', 'iJjoty', 'adn', 'I', 'am', 'a', 'cdgino', 'aefkr']"
      ]
     },
     "execution_count": 186,
     "metadata": {},
     "output_type": "execute_result"
    }
   ],
   "source": [
    "[\"\".join(sorted(word, key = lambda x: x.lower())) for word in sent.split()]"
   ]
  },
  {
   "cell_type": "code",
   "execution_count": 192,
   "metadata": {},
   "outputs": [
    {
     "data": {
      "text/plain": [
       "[1, 2, 3, 4, 5, 6, 7, 8, 9]"
      ]
     },
     "execution_count": 192,
     "metadata": {},
     "output_type": "execute_result"
    }
   ],
   "source": [
    "l = [[1, 2, 3], [4, 5, 6], [7], [8, 9]]\n",
    "sum(l, [])"
   ]
  },
  {
   "cell_type": "code",
   "execution_count": 189,
   "metadata": {},
   "outputs": [
    {
     "data": {
      "text/plain": [
       "[1, 2, 3, 4, 5, 6, 7, 8, 9]"
      ]
     },
     "execution_count": 189,
     "metadata": {},
     "output_type": "execute_result"
    }
   ],
   "source": [
    "[item for sublist in l for item in sublist]"
   ]
  },
  {
   "cell_type": "markdown",
   "metadata": {},
   "source": []
  },
  {
   "cell_type": "code",
   "execution_count": 198,
   "metadata": {},
   "outputs": [
    {
     "name": "stdout",
     "output_type": "stream",
     "text": [
      "1 h\n",
      "2 he\n",
      "3 hel\n",
      "4 hell\n",
      "4 onow\n",
      "1 o\n",
      "2 on\n",
      "2 ow\n",
      "1 o\n",
      "2 ow\n",
      "3 ono\n",
      "4 onow\n",
      "5 hello\n",
      "5 now\n",
      "success\n",
      "String Can be Segmented\n"
     ]
    }
   ],
   "source": [
    "def can_segment_string(s, dictionary):\n",
    "    for i in range(1, len(s) + 1):\n",
    "        first = s[0:i]\n",
    "        print(i,first)\n",
    "        if first in dictionary:\n",
    "            second = s[i:]\n",
    "            print(i,second)\n",
    "            if not second or second in dictionary or can_segment_string(second, dictionary):\n",
    "                print(\"success\")\n",
    "                return True\n",
    "    return False\n",
    "  \n",
    "s = \"hellonow\";\n",
    "dictionary= set([\"hello\",\"hell\",\"on\",\"now\"])\n",
    "if can_segment_string(s, dictionary):\n",
    "    print(\"String Can be Segmented\")\n",
    "else:\n",
    "    print(\"String Can NOT be Segmented\")"
   ]
  },
  {
   "cell_type": "code",
   "execution_count": 204,
   "metadata": {},
   "outputs": [],
   "source": [
    "def power_rec(x, n):\n",
    "    if n == 0:\n",
    "        return 1\n",
    "    if n == 1:\n",
    "        return x\n",
    "    print(f'power_rec {x} , {n//2}')  \n",
    "    temp = power_rec(x, n//2)\n",
    "    if n % 2 == 0:\n",
    "        return temp * temp\n",
    "    else:\n",
    "        return x * temp * temp"
   ]
  },
  {
   "cell_type": "code",
   "execution_count": 206,
   "metadata": {},
   "outputs": [
    {
     "name": "stdout",
     "output_type": "stream",
     "text": [
      "power_rec 2 , 2\n",
      "power_rec 2 , 1\n"
     ]
    },
    {
     "data": {
      "text/plain": [
       "32"
      ]
     },
     "execution_count": 206,
     "metadata": {},
     "output_type": "execute_result"
    }
   ],
   "source": [
    "power_rec(2, 5)"
   ]
  },
  {
   "cell_type": "code",
   "execution_count": 208,
   "metadata": {},
   "outputs": [
    {
     "name": "stdout",
     "output_type": "stream",
     "text": [
      "****Total*****16\n",
      "{set()}\n",
      "{{8}}\n",
      "{{13}}\n",
      "{{8, 13}}\n",
      "{{3}}\n",
      "{{8, 3}}\n",
      "{{3, 13}}\n",
      "{{8, 3, 13}}\n",
      "{{22}}\n",
      "{{8, 22}}\n",
      "{{13, 22}}\n",
      "{{8, 13, 22}}\n",
      "{{3, 22}}\n",
      "{{8, 3, 22}}\n",
      "{{3, 13, 22}}\n",
      "{{8, 3, 13, 22}}\n",
      "****Total*****16\n"
     ]
    }
   ],
   "source": [
    "def get_bit(num, bit):\n",
    "    temp = (1 << bit)\n",
    "    temp = temp & num\n",
    "    if temp == 0:\n",
    "        return 0\n",
    "    return 1\n",
    "        \n",
    "def get_all_subsets(v, sets):\n",
    "    subsets_count = 2 ** len(v)\n",
    "    for i in range(0, subsets_count):\n",
    "        st = set([])\n",
    "        for j in range(0, len(v)):\n",
    "            if get_bit(i, j) == 1:\n",
    "                st.add(v[j])\n",
    "        sets.append(st)\n",
    "\n",
    "def  main():\n",
    "    v = [8,13,3,22]\n",
    "    subsets = []\n",
    "    get_all_subsets(v, subsets);\n",
    "    print(\"****Total*****\" + str(len(subsets)))\n",
    "    for i in range(0, len(subsets)):\n",
    "        print(\"{\", end = \"\")\n",
    "        print(subsets[i], end = \"\")\n",
    "        print(\"}\")\n",
    "    print(\"****Total*****\" + str(len(subsets)))\n",
    "\n",
    "main()  "
   ]
  },
  {
   "cell_type": "code",
   "execution_count": 214,
   "metadata": {},
   "outputs": [
    {
     "data": {
      "text/plain": [
       "0"
      ]
     },
     "execution_count": 214,
     "metadata": {},
     "output_type": "execute_result"
    }
   ],
   "source": [
    "(1 << 3) & 4"
   ]
  },
  {
   "cell_type": "markdown",
   "metadata": {},
   "source": [
    "#### Length of longest non-repetitive substring"
   ]
  },
  {
   "cell_type": "code",
   "execution_count": null,
   "metadata": {},
   "outputs": [],
   "source": [
    "Input: s = \"pwwkew\"\n",
    "Output: 3\n",
    "Explanation: The answer is \"wke\", with the length of 3.\n",
    "Notice that the answer must be a substring, \"pwke\" is a subsequence and not a substring."
   ]
  },
  {
   "cell_type": "code",
   "execution_count": 85,
   "metadata": {},
   "outputs": [],
   "source": [
    "def lengthOfLongestSubstring(s):  \n",
    "    if len(s) == 0:\n",
    "        return 0\n",
    "    elif len(s) == 1:\n",
    "        return 1\n",
    "    else:            \n",
    "        start = 0\n",
    "        end = 0\n",
    "        globmaxlen = 0\n",
    "        while end < len(s):\n",
    "            if len(s[start:end + 1]) == len(set(s[start:end + 1])):\n",
    "                end = end + 1\n",
    "            else:\n",
    "                start = start + 1\n",
    "            if globmaxlen < (end - start):\n",
    "                globmaxlen = (end - start) \n",
    "    return globmaxlen       "
   ]
  },
  {
   "cell_type": "code",
   "execution_count": 86,
   "metadata": {},
   "outputs": [
    {
     "data": {
      "text/plain": [
       "1"
      ]
     },
     "execution_count": 86,
     "metadata": {},
     "output_type": "execute_result"
    }
   ],
   "source": [
    "lengthOfLongestSubstring(\"aaaaa\")"
   ]
  },
  {
   "cell_type": "code",
   "execution_count": 87,
   "metadata": {},
   "outputs": [
    {
     "data": {
      "text/plain": [
       "3"
      ]
     },
     "execution_count": 87,
     "metadata": {},
     "output_type": "execute_result"
    }
   ],
   "source": [
    "lengthOfLongestSubstring(\"pwwkew\")        "
   ]
  },
  {
   "cell_type": "code",
   "execution_count": 88,
   "metadata": {},
   "outputs": [
    {
     "data": {
      "text/plain": [
       "2"
      ]
     },
     "execution_count": 88,
     "metadata": {},
     "output_type": "execute_result"
    }
   ],
   "source": [
    "lengthOfLongestSubstring(\"au\")  "
   ]
  },
  {
   "cell_type": "markdown",
   "metadata": {},
   "source": [
    "### atoi    usage of regex"
   ]
  },
  {
   "cell_type": "code",
   "execution_count": 91,
   "metadata": {},
   "outputs": [
    {
     "data": {
      "text/plain": [
       "'abcd '"
      ]
     },
     "execution_count": 91,
     "metadata": {},
     "output_type": "execute_result"
    }
   ],
   "source": [
    "x = ' abcd '\n",
    "x.lstrip()"
   ]
  },
  {
   "cell_type": "code",
   "execution_count": 100,
   "metadata": {},
   "outputs": [],
   "source": [
    "import re"
   ]
  },
  {
   "cell_type": "code",
   "execution_count": 209,
   "metadata": {},
   "outputs": [],
   "source": [
    "def myAtoi(s):\n",
    "    if len(s) > 200:\n",
    "        return 0\n",
    "    elif not bool(re.match(r'^[\\+\\- .0-9A-Za-z]*$',s)):\n",
    "        return 0\n",
    "    else:\n",
    "        s = s.lstrip()\n",
    "        try:\n",
    "            (sign,nbr) = re.match(r'^([\\+\\-]{0,1})([0-9]+)(.)*',s).group(1,2)\n",
    "            finalnbr = 0\n",
    "            for i in range(len(nbr)):\n",
    "                finalnbr = finalnbr + (int(nbr[i]) * (10**(len(nbr) - i - 1)))\n",
    "\n",
    "            if sign == '-':\n",
    "                finalnbr = finalnbr * -1            \n",
    "                if finalnbr < -2**31:\n",
    "                    finalnbr = -2147483648\n",
    "            else:\n",
    "                if finalnbr > (2**31 - 1):\n",
    "                    finalnbr = 2147483647\n",
    "\n",
    "            return finalnbr\n",
    "\n",
    "        except:\n",
    "            return 0 "
   ]
  },
  {
   "cell_type": "code",
   "execution_count": 210,
   "metadata": {},
   "outputs": [
    {
     "data": {
      "text/plain": [
       "0"
      ]
     },
     "execution_count": 210,
     "metadata": {},
     "output_type": "execute_result"
    }
   ],
   "source": [
    "myAtoi(\"+-12\")"
   ]
  },
  {
   "cell_type": "markdown",
   "metadata": {},
   "source": [
    "## Subsets"
   ]
  },
  {
   "cell_type": "code",
   "execution_count": 254,
   "metadata": {},
   "outputs": [
    {
     "data": {
      "text/plain": [
       "[[],\n",
       " [9],\n",
       " [4],\n",
       " [4, 9],\n",
       " [2],\n",
       " [2, 9],\n",
       " [2, 4],\n",
       " [2, 4, 9],\n",
       " [1],\n",
       " [1, 9],\n",
       " [1, 4],\n",
       " [1, 4, 9],\n",
       " [1, 2],\n",
       " [1, 2, 9],\n",
       " [1, 2, 4],\n",
       " [1, 2, 4, 9]]"
      ]
     },
     "execution_count": 254,
     "metadata": {},
     "output_type": "execute_result"
    }
   ],
   "source": [
    "def getsets(x):\n",
    "    size = len(x)\n",
    "    subsets = []\n",
    "    for i in range(2**size):\n",
    "        bits = str(bin(i))[2:].rjust(size,'0')\n",
    "        positions = [a for a,b in zip(x,list(bits)) if int(b) == 1]    \n",
    "        subsets.append(positions)\n",
    "    return subsets\n",
    "\n",
    "\n",
    "x = [1,2,4,9]\n",
    "getsets(x)"
   ]
  },
  {
   "cell_type": "markdown",
   "metadata": {},
   "source": [
    "### Roman Numerals"
   ]
  },
  {
   "cell_type": "markdown",
   "metadata": {},
   "source": [
    "Symbol       Value\n",
    "- I             1\n",
    "- V             5\n",
    "- X             10\n",
    "- L             50\n",
    "- C             100\n",
    "- D             500\n",
    "- M             1000\n",
    "- I can be placed before V (5) and X (10) to make 4 and 9. \n",
    "- X can be placed before L (50) and C (100) to make 40 and 90. \n",
    "- C can be placed before D (500) and M (1000) to make 400 and 900.\n",
    "\n",
    "\n",
    "M CM XC IV\n",
    "1000 + 900 + 90 + 4 = 1994"
   ]
  },
  {
   "cell_type": "code",
   "execution_count": 273,
   "metadata": {},
   "outputs": [],
   "source": []
  },
  {
   "cell_type": "code",
   "execution_count": 274,
   "metadata": {},
   "outputs": [
    {
     "data": {
      "text/plain": [
       "{'I': 1, 'V': 5, 'X': 10, 'L': 50, 'C': 100, 'D': 500, 'M': 1000}"
      ]
     },
     "execution_count": 274,
     "metadata": {},
     "output_type": "execute_result"
    }
   ],
   "source": [
    "roman_values"
   ]
  },
  {
   "cell_type": "code",
   "execution_count": 275,
   "metadata": {},
   "outputs": [
    {
     "data": {
      "text/plain": [
       "['I', 'V', 'X', 'L', 'C', 'D', 'M']"
      ]
     },
     "execution_count": 275,
     "metadata": {},
     "output_type": "execute_result"
    }
   ],
   "source": [
    "positions"
   ]
  },
  {
   "cell_type": "code",
   "execution_count": 320,
   "metadata": {},
   "outputs": [],
   "source": [
    "def romanToInt(s):\n",
    "        idx = 0\n",
    "        number = 0\n",
    "        roman_values = {'I': 1, 'V':5,'X' : 10,'L' : 50,'C' : 100,'D' : 500, 'M' : 1000}\n",
    "        positions = list(roman_values.keys())\n",
    "        if len(s) > 15:\n",
    "            return 0\n",
    "        elif any([x not in positions for x in list(s)]):\n",
    "            return 0\n",
    "        else:\n",
    "            while idx < len(s):    \n",
    "                currdigit = s[idx]    \n",
    "                if idx + 1 != len(s):\n",
    "                    nextdigit = s[idx + 1]    \n",
    "                    if (positions.index(nextdigit) - positions.index(currdigit)) >= 1:\n",
    "                        number = number + (roman_values[nextdigit] - roman_values[currdigit])\n",
    "                        idx = idx + 1\n",
    "                    else:\n",
    "                        number = number + roman_values[currdigit]\n",
    "                else:\n",
    "                    number = number + roman_values[currdigit]\n",
    "                idx = idx + 1\n",
    "        return number      "
   ]
  },
  {
   "cell_type": "code",
   "execution_count": 321,
   "metadata": {},
   "outputs": [
    {
     "name": "stdout",
     "output_type": "stream",
     "text": [
      "I I 1 1\n",
      "I I 2 2\n",
      "I I 3 3\n"
     ]
    },
    {
     "data": {
      "text/plain": [
       "3"
      ]
     },
     "execution_count": 321,
     "metadata": {},
     "output_type": "execute_result"
    }
   ],
   "source": [
    "romanToInt('III')"
   ]
  },
  {
   "cell_type": "code",
   "execution_count": 294,
   "metadata": {},
   "outputs": [
    {
     "data": {
      "text/plain": [
       "58"
      ]
     },
     "execution_count": 294,
     "metadata": {},
     "output_type": "execute_result"
    }
   ],
   "source": [
    "romanToInt('LVIII')"
   ]
  },
  {
   "cell_type": "code",
   "execution_count": 323,
   "metadata": {},
   "outputs": [
    {
     "name": "stdout",
     "output_type": "stream",
     "text": [
      "M C 1 1000\n",
      "C M 3 1900\n",
      "X C 5 1990\n",
      "I V 7 1994\n"
     ]
    },
    {
     "data": {
      "text/plain": [
       "1994"
      ]
     },
     "execution_count": 323,
     "metadata": {},
     "output_type": "execute_result"
    }
   ],
   "source": [
    "romanToInt('MCMXCIV') "
   ]
  },
  {
   "cell_type": "code",
   "execution_count": 322,
   "metadata": {},
   "outputs": [
    {
     "name": "stdout",
     "output_type": "stream",
     "text": [
      "M D 1 1000\n",
      "D C 2 1500\n",
      "C X 3 1600\n",
      "X C 5 1690\n",
      "V C 6 1695\n"
     ]
    },
    {
     "data": {
      "text/plain": [
       "1695"
      ]
     },
     "execution_count": 322,
     "metadata": {},
     "output_type": "execute_result"
    }
   ],
   "source": [
    "romanToInt('MDCXCV') "
   ]
  },
  {
   "cell_type": "code",
   "execution_count": null,
   "metadata": {},
   "outputs": [],
   "source": [
    "M D C XC V\n",
    "1000 500 100 90 5"
   ]
  },
  {
   "cell_type": "markdown",
   "metadata": {},
   "source": [
    "### Two sum problem"
   ]
  },
  {
   "cell_type": "markdown",
   "metadata": {},
   "source": [
    "Input: nums = [-1,0,1,2,-1,-4]\n",
    "Output: [[-1,-1,2],[-1,0,1]]"
   ]
  },
  {
   "cell_type": "code",
   "execution_count": 325,
   "metadata": {},
   "outputs": [],
   "source": [
    "nums = [-1,0,1,2,-1,-4]"
   ]
  },
  {
   "cell_type": "code",
   "execution_count": null,
   "metadata": {},
   "outputs": [],
   "source": [
    "sums([-1,0,1,2,-1,-4],3,0)\n",
    "    f = -1\n",
    "    sums([0,1,2,-1,-4],2,1)\n",
    "        f = 0\n",
    "        sums([1,2,-1,-4],1,1)\n",
    "            f = 1                      --> -1,0,1\n",
    "        f = 1\n",
    "        sums([0,2,-1,-4],1,0)\n",
    "            f = 0             --> -1,1,0\n",
    "   "
   ]
  },
  {
   "cell_type": "code",
   "execution_count": null,
   "metadata": {},
   "outputs": [],
   "source": [
    "def sums(arr,count,sums):\n",
    "    first = arr[0]\n",
    "    "
   ]
  },
  {
   "cell_type": "code",
   "execution_count": null,
   "metadata": {},
   "outputs": [],
   "source": []
  },
  {
   "cell_type": "markdown",
   "metadata": {},
   "source": [
    "### Sieve of Eratosthenes"
   ]
  },
  {
   "cell_type": "code",
   "execution_count": 12,
   "metadata": {},
   "outputs": [
    {
     "name": "stdout",
     "output_type": "stream",
     "text": [
      " i = 2 isprime = [False, False, True, True, True, True, True, True, True, True]  SPF = [None, None, 2, None, None, None, None, None, None, None] prime = [2]\n",
      "2 2 0 1 4 10\n"
     ]
    },
    {
     "ename": "IndexError",
     "evalue": "list index out of range",
     "output_type": "error",
     "traceback": [
      "\u001b[1;31m---------------------------------------------------------------------------\u001b[0m",
      "\u001b[1;31mIndexError\u001b[0m                                Traceback (most recent call last)",
      "\u001b[1;32m<ipython-input-12-9eda04d35f0b>\u001b[0m in \u001b[0;36m<module>\u001b[1;34m\u001b[0m\n\u001b[0;32m     21\u001b[0m     \u001b[1;32mreturn\u001b[0m \u001b[0mprime\u001b[0m\u001b[1;33m\u001b[0m\u001b[1;33m\u001b[0m\u001b[0m\n\u001b[0;32m     22\u001b[0m \u001b[1;33m\u001b[0m\u001b[0m\n\u001b[1;32m---> 23\u001b[1;33m \u001b[0mmodified_seive\u001b[0m\u001b[1;33m(\u001b[0m\u001b[1;36m10\u001b[0m\u001b[1;33m)\u001b[0m\u001b[1;33m\u001b[0m\u001b[1;33m\u001b[0m\u001b[0m\n\u001b[0m\u001b[0;32m     24\u001b[0m \u001b[1;33m\u001b[0m\u001b[0m\n",
      "\u001b[1;32m<ipython-input-12-9eda04d35f0b>\u001b[0m in \u001b[0;36mmodified_seive\u001b[1;34m(N)\u001b[0m\n\u001b[0;32m     15\u001b[0m         \u001b[0mj\u001b[0m \u001b[1;33m=\u001b[0m \u001b[1;36m0\u001b[0m\u001b[1;33m\u001b[0m\u001b[1;33m\u001b[0m\u001b[0m\n\u001b[0;32m     16\u001b[0m         \u001b[0mprint\u001b[0m\u001b[1;33m(\u001b[0m\u001b[0mprime\u001b[0m\u001b[1;33m[\u001b[0m\u001b[0mj\u001b[0m\u001b[1;33m]\u001b[0m\u001b[1;33m,\u001b[0m\u001b[0mSPF\u001b[0m\u001b[1;33m[\u001b[0m\u001b[0mi\u001b[0m\u001b[1;33m]\u001b[0m\u001b[1;33m,\u001b[0m\u001b[0mj\u001b[0m\u001b[1;33m,\u001b[0m\u001b[0mlen\u001b[0m\u001b[1;33m(\u001b[0m\u001b[0mprime\u001b[0m\u001b[1;33m)\u001b[0m\u001b[1;33m,\u001b[0m\u001b[0mi\u001b[0m \u001b[1;33m*\u001b[0m \u001b[0mprime\u001b[0m\u001b[1;33m[\u001b[0m\u001b[0mj\u001b[0m\u001b[1;33m]\u001b[0m\u001b[1;33m,\u001b[0m\u001b[0mN\u001b[0m\u001b[1;33m)\u001b[0m\u001b[1;33m\u001b[0m\u001b[1;33m\u001b[0m\u001b[0m\n\u001b[1;32m---> 17\u001b[1;33m         \u001b[1;32mwhile\u001b[0m \u001b[0mprime\u001b[0m\u001b[1;33m[\u001b[0m\u001b[0mj\u001b[0m\u001b[1;33m]\u001b[0m \u001b[1;33m<=\u001b[0m \u001b[0mSPF\u001b[0m\u001b[1;33m[\u001b[0m\u001b[0mi\u001b[0m\u001b[1;33m]\u001b[0m \u001b[1;32mand\u001b[0m \u001b[0mj\u001b[0m \u001b[1;33m<\u001b[0m \u001b[0mlen\u001b[0m\u001b[1;33m(\u001b[0m\u001b[0mprime\u001b[0m\u001b[1;33m)\u001b[0m \u001b[1;32mand\u001b[0m \u001b[0mi\u001b[0m \u001b[1;33m*\u001b[0m \u001b[0mprime\u001b[0m\u001b[1;33m[\u001b[0m\u001b[0mj\u001b[0m\u001b[1;33m]\u001b[0m \u001b[1;33m<\u001b[0m \u001b[0mN\u001b[0m\u001b[1;33m:\u001b[0m\u001b[1;33m\u001b[0m\u001b[1;33m\u001b[0m\u001b[0m\n\u001b[0m\u001b[0;32m     18\u001b[0m             \u001b[0misprime\u001b[0m\u001b[1;33m[\u001b[0m\u001b[0mi\u001b[0m \u001b[1;33m*\u001b[0m \u001b[0mprime\u001b[0m\u001b[1;33m[\u001b[0m\u001b[0mj\u001b[0m\u001b[1;33m]\u001b[0m\u001b[1;33m]\u001b[0m \u001b[1;33m=\u001b[0m \u001b[1;32mFalse\u001b[0m\u001b[1;33m\u001b[0m\u001b[1;33m\u001b[0m\u001b[0m\n\u001b[0;32m     19\u001b[0m             \u001b[0mSPF\u001b[0m\u001b[1;33m[\u001b[0m\u001b[0mi\u001b[0m \u001b[1;33m*\u001b[0m \u001b[0mprime\u001b[0m\u001b[1;33m[\u001b[0m\u001b[0mj\u001b[0m\u001b[1;33m]\u001b[0m\u001b[1;33m]\u001b[0m \u001b[1;33m=\u001b[0m \u001b[0mprime\u001b[0m\u001b[1;33m[\u001b[0m\u001b[0mj\u001b[0m\u001b[1;33m]\u001b[0m\u001b[1;33m\u001b[0m\u001b[1;33m\u001b[0m\u001b[0m\n",
      "\u001b[1;31mIndexError\u001b[0m: list index out of range"
     ]
    }
   ],
   "source": [
    "def modified_seive(N):\n",
    "\n",
    "    isprime = [True] * N\n",
    "    SPF = [None] * N\n",
    "    prime = []\n",
    "    \n",
    "    isprime[0] = isprime[1] = False\n",
    "\n",
    "    for i in range(2, N):\n",
    "        if isprime[i] == True:\n",
    "            prime.append(i)\n",
    "            SPF[i] = i\n",
    "         \n",
    "        print(f' i = {i} isprime = {isprime}  SPF = {SPF} prime = {prime}' )\n",
    "        j = 0\n",
    "        print(prime[j],SPF[i],j,len(prime),i * prime[j],N)\n",
    "        while prime[j] <= SPF[i] and j < len(prime) and i * prime[j] < N:\n",
    "            isprime[i * prime[j]] = False\n",
    "            SPF[i * prime[j]] = prime[j]\n",
    "            j += 1\n",
    "    return prime\n",
    "\n",
    "modified_seive(10)\n",
    "\n"
   ]
  },
  {
   "cell_type": "code",
   "execution_count": null,
   "metadata": {},
   "outputs": [],
   "source": []
  }
 ],
 "metadata": {
  "kernelspec": {
   "display_name": "Python 3",
   "language": "python",
   "name": "python3"
  },
  "language_info": {
   "codemirror_mode": {
    "name": "ipython",
    "version": 3
   },
   "file_extension": ".py",
   "mimetype": "text/x-python",
   "name": "python",
   "nbconvert_exporter": "python",
   "pygments_lexer": "ipython3",
   "version": "3.6.8"
  }
 },
 "nbformat": 4,
 "nbformat_minor": 4
}
